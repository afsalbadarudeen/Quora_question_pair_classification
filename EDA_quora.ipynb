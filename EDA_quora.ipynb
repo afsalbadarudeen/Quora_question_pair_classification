{
 "cells": [
  {
   "cell_type": "code",
   "execution_count": 1,
   "id": "352eb54a",
   "metadata": {},
   "outputs": [],
   "source": [
    "import numpy as np\n",
    "import pandas as pd\n",
    "import seaborn as sns\n",
    "import matplotlib.pyplot as plt"
   ]
  },
  {
   "cell_type": "code",
   "execution_count": 2,
   "id": "942284a1",
   "metadata": {},
   "outputs": [],
   "source": [
    "df = pd.read_csv(\"train.csv\")"
   ]
  },
  {
   "cell_type": "code",
   "execution_count": 3,
   "id": "b93ec7ac",
   "metadata": {},
   "outputs": [
    {
     "data": {
      "text/html": [
       "<div>\n",
       "<style scoped>\n",
       "    .dataframe tbody tr th:only-of-type {\n",
       "        vertical-align: middle;\n",
       "    }\n",
       "\n",
       "    .dataframe tbody tr th {\n",
       "        vertical-align: top;\n",
       "    }\n",
       "\n",
       "    .dataframe thead th {\n",
       "        text-align: right;\n",
       "    }\n",
       "</style>\n",
       "<table border=\"1\" class=\"dataframe\">\n",
       "  <thead>\n",
       "    <tr style=\"text-align: right;\">\n",
       "      <th></th>\n",
       "      <th>id</th>\n",
       "      <th>qid1</th>\n",
       "      <th>qid2</th>\n",
       "      <th>question1</th>\n",
       "      <th>question2</th>\n",
       "      <th>is_duplicate</th>\n",
       "    </tr>\n",
       "  </thead>\n",
       "  <tbody>\n",
       "    <tr>\n",
       "      <th>144920</th>\n",
       "      <td>144920</td>\n",
       "      <td>229239</td>\n",
       "      <td>31859</td>\n",
       "      <td>What are the best places for vacation in USA?</td>\n",
       "      <td>What is the best spot for a vacation in the wo...</td>\n",
       "      <td>0</td>\n",
       "    </tr>\n",
       "    <tr>\n",
       "      <th>83594</th>\n",
       "      <td>83594</td>\n",
       "      <td>141482</td>\n",
       "      <td>141483</td>\n",
       "      <td>What are the marker less augmented reality exa...</td>\n",
       "      <td>What is the best OS environment for Android ap...</td>\n",
       "      <td>0</td>\n",
       "    </tr>\n",
       "    <tr>\n",
       "      <th>310989</th>\n",
       "      <td>310989</td>\n",
       "      <td>10566</td>\n",
       "      <td>67593</td>\n",
       "      <td>What were the major effects of the cambodia ea...</td>\n",
       "      <td>What were the major effects of the cambodia ea...</td>\n",
       "      <td>1</td>\n",
       "    </tr>\n",
       "    <tr>\n",
       "      <th>107016</th>\n",
       "      <td>107016</td>\n",
       "      <td>176161</td>\n",
       "      <td>176162</td>\n",
       "      <td>Why can't junk foods be banned?</td>\n",
       "      <td>Should we ban junk food?</td>\n",
       "      <td>0</td>\n",
       "    </tr>\n",
       "    <tr>\n",
       "      <th>72666</th>\n",
       "      <td>72666</td>\n",
       "      <td>124809</td>\n",
       "      <td>124810</td>\n",
       "      <td>What is the best university for studying in bi...</td>\n",
       "      <td>Why does it seem impossible to find a suitable...</td>\n",
       "      <td>0</td>\n",
       "    </tr>\n",
       "    <tr>\n",
       "      <th>89534</th>\n",
       "      <td>89534</td>\n",
       "      <td>19546</td>\n",
       "      <td>1182</td>\n",
       "      <td>Can we time travel?</td>\n",
       "      <td>How is time travel possible?</td>\n",
       "      <td>1</td>\n",
       "    </tr>\n",
       "    <tr>\n",
       "      <th>20396</th>\n",
       "      <td>20396</td>\n",
       "      <td>38480</td>\n",
       "      <td>38481</td>\n",
       "      <td>Why is the Quora community so anti-Donald Trump?</td>\n",
       "      <td>Why is Quora so antiTrump?</td>\n",
       "      <td>1</td>\n",
       "    </tr>\n",
       "    <tr>\n",
       "      <th>219936</th>\n",
       "      <td>219936</td>\n",
       "      <td>326935</td>\n",
       "      <td>326936</td>\n",
       "      <td>I am 23 and single, I feel like I am ready for...</td>\n",
       "      <td>I hate people, I don't like girls even though ...</td>\n",
       "      <td>0</td>\n",
       "    </tr>\n",
       "    <tr>\n",
       "      <th>268421</th>\n",
       "      <td>268421</td>\n",
       "      <td>45205</td>\n",
       "      <td>213165</td>\n",
       "      <td>How does the stock market work? Who decides th...</td>\n",
       "      <td>What is STOCK MARKET? How does it work?</td>\n",
       "      <td>1</td>\n",
       "    </tr>\n",
       "    <tr>\n",
       "      <th>103924</th>\n",
       "      <td>103924</td>\n",
       "      <td>171660</td>\n",
       "      <td>171661</td>\n",
       "      <td>What are the various RBI exams?</td>\n",
       "      <td>What is the RBI exam?</td>\n",
       "      <td>1</td>\n",
       "    </tr>\n",
       "    <tr>\n",
       "      <th>92444</th>\n",
       "      <td>92444</td>\n",
       "      <td>154764</td>\n",
       "      <td>154765</td>\n",
       "      <td>I love my girlfriend a lot, but for the last 3...</td>\n",
       "      <td>Five years ago my wife cheated on me, after 30...</td>\n",
       "      <td>0</td>\n",
       "    </tr>\n",
       "    <tr>\n",
       "      <th>338394</th>\n",
       "      <td>338394</td>\n",
       "      <td>465938</td>\n",
       "      <td>465939</td>\n",
       "      <td>What would be some interesting topics about En...</td>\n",
       "      <td>What can a university teach me about entrepren...</td>\n",
       "      <td>0</td>\n",
       "    </tr>\n",
       "  </tbody>\n",
       "</table>\n",
       "</div>"
      ],
      "text/plain": [
       "            id    qid1    qid2  \\\n",
       "144920  144920  229239   31859   \n",
       "83594    83594  141482  141483   \n",
       "310989  310989   10566   67593   \n",
       "107016  107016  176161  176162   \n",
       "72666    72666  124809  124810   \n",
       "89534    89534   19546    1182   \n",
       "20396    20396   38480   38481   \n",
       "219936  219936  326935  326936   \n",
       "268421  268421   45205  213165   \n",
       "103924  103924  171660  171661   \n",
       "92444    92444  154764  154765   \n",
       "338394  338394  465938  465939   \n",
       "\n",
       "                                                question1  \\\n",
       "144920      What are the best places for vacation in USA?   \n",
       "83594   What are the marker less augmented reality exa...   \n",
       "310989  What were the major effects of the cambodia ea...   \n",
       "107016                    Why can't junk foods be banned?   \n",
       "72666   What is the best university for studying in bi...   \n",
       "89534                                 Can we time travel?   \n",
       "20396    Why is the Quora community so anti-Donald Trump?   \n",
       "219936  I am 23 and single, I feel like I am ready for...   \n",
       "268421  How does the stock market work? Who decides th...   \n",
       "103924                    What are the various RBI exams?   \n",
       "92444   I love my girlfriend a lot, but for the last 3...   \n",
       "338394  What would be some interesting topics about En...   \n",
       "\n",
       "                                                question2  is_duplicate  \n",
       "144920  What is the best spot for a vacation in the wo...             0  \n",
       "83594   What is the best OS environment for Android ap...             0  \n",
       "310989  What were the major effects of the cambodia ea...             1  \n",
       "107016                           Should we ban junk food?             0  \n",
       "72666   Why does it seem impossible to find a suitable...             0  \n",
       "89534                        How is time travel possible?             1  \n",
       "20396                          Why is Quora so antiTrump?             1  \n",
       "219936  I hate people, I don't like girls even though ...             0  \n",
       "268421            What is STOCK MARKET? How does it work?             1  \n",
       "103924                              What is the RBI exam?             1  \n",
       "92444   Five years ago my wife cheated on me, after 30...             0  \n",
       "338394  What can a university teach me about entrepren...             0  "
      ]
     },
     "execution_count": 3,
     "metadata": {},
     "output_type": "execute_result"
    }
   ],
   "source": [
    "df.sample(12)"
   ]
  },
  {
   "cell_type": "code",
   "execution_count": 4,
   "id": "7d41cd25",
   "metadata": {},
   "outputs": [
    {
     "data": {
      "text/plain": [
       "(404290, 6)"
      ]
     },
     "execution_count": 4,
     "metadata": {},
     "output_type": "execute_result"
    }
   ],
   "source": [
    "df.shape"
   ]
  },
  {
   "cell_type": "markdown",
   "id": "ff4a8b50",
   "metadata": {},
   "source": [
    "There are 4 lakh rows. Each row has two questions. So, a total of 8 lakh questions are present."
   ]
  },
  {
   "cell_type": "code",
   "execution_count": 5,
   "id": "a619b62e",
   "metadata": {},
   "outputs": [
    {
     "name": "stdout",
     "output_type": "stream",
     "text": [
      "<class 'pandas.core.frame.DataFrame'>\n",
      "RangeIndex: 404290 entries, 0 to 404289\n",
      "Data columns (total 6 columns):\n",
      " #   Column        Non-Null Count   Dtype \n",
      "---  ------        --------------   ----- \n",
      " 0   id            404290 non-null  int64 \n",
      " 1   qid1          404290 non-null  int64 \n",
      " 2   qid2          404290 non-null  int64 \n",
      " 3   question1     404289 non-null  object\n",
      " 4   question2     404288 non-null  object\n",
      " 5   is_duplicate  404290 non-null  int64 \n",
      "dtypes: int64(4), object(2)\n",
      "memory usage: 18.5+ MB\n"
     ]
    }
   ],
   "source": [
    "df.info()"
   ]
  },
  {
   "cell_type": "markdown",
   "id": "ca4fc48d",
   "metadata": {},
   "source": [
    "Since, we cannot take all the 4 lakhs rows, I am only taking random 1 lakh rows."
   ]
  },
  {
   "cell_type": "code",
   "execution_count": 6,
   "id": "df4fc8d3",
   "metadata": {},
   "outputs": [],
   "source": [
    "new_df = df.sample(50000,random_state=12)"
   ]
  },
  {
   "cell_type": "code",
   "execution_count": 7,
   "id": "40260375",
   "metadata": {},
   "outputs": [
    {
     "data": {
      "text/html": [
       "<div>\n",
       "<style scoped>\n",
       "    .dataframe tbody tr th:only-of-type {\n",
       "        vertical-align: middle;\n",
       "    }\n",
       "\n",
       "    .dataframe tbody tr th {\n",
       "        vertical-align: top;\n",
       "    }\n",
       "\n",
       "    .dataframe thead th {\n",
       "        text-align: right;\n",
       "    }\n",
       "</style>\n",
       "<table border=\"1\" class=\"dataframe\">\n",
       "  <thead>\n",
       "    <tr style=\"text-align: right;\">\n",
       "      <th></th>\n",
       "      <th>id</th>\n",
       "      <th>qid1</th>\n",
       "      <th>qid2</th>\n",
       "      <th>question1</th>\n",
       "      <th>question2</th>\n",
       "      <th>is_duplicate</th>\n",
       "    </tr>\n",
       "  </thead>\n",
       "  <tbody>\n",
       "    <tr>\n",
       "      <th>162260</th>\n",
       "      <td>162260</td>\n",
       "      <td>252637</td>\n",
       "      <td>78559</td>\n",
       "      <td>How can I accomplish more every single day?</td>\n",
       "      <td>How do I get motivated every single day?</td>\n",
       "      <td>0</td>\n",
       "    </tr>\n",
       "    <tr>\n",
       "      <th>300139</th>\n",
       "      <td>300139</td>\n",
       "      <td>422897</td>\n",
       "      <td>422898</td>\n",
       "      <td>How does GravityLight work?</td>\n",
       "      <td>How does GravityLight (From Deciwatt) work? Wh...</td>\n",
       "      <td>1</td>\n",
       "    </tr>\n",
       "    <tr>\n",
       "      <th>169568</th>\n",
       "      <td>169568</td>\n",
       "      <td>187323</td>\n",
       "      <td>74117</td>\n",
       "      <td>Why should I not vote for Trump? (Someone aske...</td>\n",
       "      <td>Why should I not vote for Trump?</td>\n",
       "      <td>1</td>\n",
       "    </tr>\n",
       "    <tr>\n",
       "      <th>345040</th>\n",
       "      <td>345040</td>\n",
       "      <td>473326</td>\n",
       "      <td>473327</td>\n",
       "      <td>What is the best RZA verse?</td>\n",
       "      <td>What are the craziest rap verses?</td>\n",
       "      <td>0</td>\n",
       "    </tr>\n",
       "    <tr>\n",
       "      <th>30329</th>\n",
       "      <td>30329</td>\n",
       "      <td>56030</td>\n",
       "      <td>56031</td>\n",
       "      <td>Which programming languages should have to lea...</td>\n",
       "      <td>What programming language should I learn for m...</td>\n",
       "      <td>1</td>\n",
       "    </tr>\n",
       "    <tr>\n",
       "      <th>...</th>\n",
       "      <td>...</td>\n",
       "      <td>...</td>\n",
       "      <td>...</td>\n",
       "      <td>...</td>\n",
       "      <td>...</td>\n",
       "      <td>...</td>\n",
       "    </tr>\n",
       "    <tr>\n",
       "      <th>204760</th>\n",
       "      <td>204760</td>\n",
       "      <td>307754</td>\n",
       "      <td>307755</td>\n",
       "      <td>Is it true that continental drift is fake?</td>\n",
       "      <td>Is the idea true that continental drift is a h...</td>\n",
       "      <td>1</td>\n",
       "    </tr>\n",
       "    <tr>\n",
       "      <th>162810</th>\n",
       "      <td>162810</td>\n",
       "      <td>202939</td>\n",
       "      <td>253393</td>\n",
       "      <td>Why do some women shave their eyebrows and pai...</td>\n",
       "      <td>How do I hide a shaved eyebrow?</td>\n",
       "      <td>0</td>\n",
       "    </tr>\n",
       "    <tr>\n",
       "      <th>126921</th>\n",
       "      <td>126921</td>\n",
       "      <td>204447</td>\n",
       "      <td>204448</td>\n",
       "      <td>Why don't airline beverages have lids in case ...</td>\n",
       "      <td>Why don't airlines use lids for their coffee?</td>\n",
       "      <td>1</td>\n",
       "    </tr>\n",
       "    <tr>\n",
       "      <th>106157</th>\n",
       "      <td>106157</td>\n",
       "      <td>174920</td>\n",
       "      <td>32452</td>\n",
       "      <td>How can I improve my vocabulary?</td>\n",
       "      <td>How can I improve my English vocabulary?</td>\n",
       "      <td>1</td>\n",
       "    </tr>\n",
       "    <tr>\n",
       "      <th>262197</th>\n",
       "      <td>262197</td>\n",
       "      <td>201705</td>\n",
       "      <td>378466</td>\n",
       "      <td>What are the highest and average packages offe...</td>\n",
       "      <td>Are the PSUs better than MNCs?</td>\n",
       "      <td>0</td>\n",
       "    </tr>\n",
       "  </tbody>\n",
       "</table>\n",
       "<p>50000 rows × 6 columns</p>\n",
       "</div>"
      ],
      "text/plain": [
       "            id    qid1    qid2  \\\n",
       "162260  162260  252637   78559   \n",
       "300139  300139  422897  422898   \n",
       "169568  169568  187323   74117   \n",
       "345040  345040  473326  473327   \n",
       "30329    30329   56030   56031   \n",
       "...        ...     ...     ...   \n",
       "204760  204760  307754  307755   \n",
       "162810  162810  202939  253393   \n",
       "126921  126921  204447  204448   \n",
       "106157  106157  174920   32452   \n",
       "262197  262197  201705  378466   \n",
       "\n",
       "                                                question1  \\\n",
       "162260        How can I accomplish more every single day?   \n",
       "300139                        How does GravityLight work?   \n",
       "169568  Why should I not vote for Trump? (Someone aske...   \n",
       "345040                        What is the best RZA verse?   \n",
       "30329   Which programming languages should have to lea...   \n",
       "...                                                   ...   \n",
       "204760         Is it true that continental drift is fake?   \n",
       "162810  Why do some women shave their eyebrows and pai...   \n",
       "126921  Why don't airline beverages have lids in case ...   \n",
       "106157                   How can I improve my vocabulary?   \n",
       "262197  What are the highest and average packages offe...   \n",
       "\n",
       "                                                question2  is_duplicate  \n",
       "162260           How do I get motivated every single day?             0  \n",
       "300139  How does GravityLight (From Deciwatt) work? Wh...             1  \n",
       "169568                   Why should I not vote for Trump?             1  \n",
       "345040                  What are the craziest rap verses?             0  \n",
       "30329   What programming language should I learn for m...             1  \n",
       "...                                                   ...           ...  \n",
       "204760  Is the idea true that continental drift is a h...             1  \n",
       "162810                    How do I hide a shaved eyebrow?             0  \n",
       "126921      Why don't airlines use lids for their coffee?             1  \n",
       "106157           How can I improve my English vocabulary?             1  \n",
       "262197                     Are the PSUs better than MNCs?             0  \n",
       "\n",
       "[50000 rows x 6 columns]"
      ]
     },
     "execution_count": 7,
     "metadata": {},
     "output_type": "execute_result"
    }
   ],
   "source": [
    "new_df"
   ]
  },
  {
   "cell_type": "code",
   "execution_count": 8,
   "id": "c4ea57fa",
   "metadata": {},
   "outputs": [
    {
     "data": {
      "text/plain": [
       "(50000, 6)"
      ]
     },
     "execution_count": 8,
     "metadata": {},
     "output_type": "execute_result"
    }
   ],
   "source": [
    "new_df.shape"
   ]
  },
  {
   "cell_type": "code",
   "execution_count": 9,
   "id": "892af0f9",
   "metadata": {},
   "outputs": [
    {
     "data": {
      "text/plain": [
       "0"
      ]
     },
     "execution_count": 9,
     "metadata": {},
     "output_type": "execute_result"
    }
   ],
   "source": [
    "# duplicate rows\n",
    "new_df.duplicated().sum()"
   ]
  },
  {
   "cell_type": "code",
   "execution_count": 10,
   "id": "50e0b0f9",
   "metadata": {},
   "outputs": [
    {
     "name": "stdout",
     "output_type": "stream",
     "text": [
      "0    31600\n",
      "1    18400\n",
      "Name: is_duplicate, dtype: int64\n",
      "0    63.2\n",
      "1    36.8\n",
      "Name: is_duplicate, dtype: float64\n"
     ]
    }
   ],
   "source": [
    "# count of duplicated and non-duplicated rows\n",
    "print(new_df[\"is_duplicate\"].value_counts())\n",
    "print((new_df[\"is_duplicate\"].value_counts()/new_df['is_duplicate'].count())*100 )"
   ]
  },
  {
   "cell_type": "code",
   "execution_count": 11,
   "id": "2c66eace",
   "metadata": {},
   "outputs": [
    {
     "data": {
      "text/plain": [
       "<Axes: >"
      ]
     },
     "execution_count": 11,
     "metadata": {},
     "output_type": "execute_result"
    },
    {
     "data": {
      "image/png": "[encoded data removed]",
      "text/plain": [
       "<Figure size 640x480 with 1 Axes>"
      ]
     },
     "metadata": {},
     "output_type": "display_data"
    }
   ],
   "source": [
    "new_df[\"is_duplicate\"].value_counts().plot(kind  = \"bar\")"
   ]
  },
  {
   "cell_type": "markdown",
   "id": "93b4749b",
   "metadata": {},
   "source": [
    " An imbalance in the labelling is present in the data. That is, 63k rows are labelled not duplicated and 37k are labelled duplicated."
   ]
  },
  {
   "cell_type": "code",
   "execution_count": 12,
   "id": "8ccffd12",
   "metadata": {},
   "outputs": [
    {
     "name": "stdout",
     "output_type": "stream",
     "text": [
      "Number of unique questions 88989\n",
      "Number of questions getting repeated 7376\n"
     ]
    }
   ],
   "source": [
    "#Repeated quesion\n",
    "qid = pd.Series(new_df['qid1'].tolist() + new_df['qid2'].tolist())\n",
    "print('Number of unique questions',np.unique(qid).shape[0])\n",
    "x = qid.value_counts()>1\n",
    "print('Number of questions getting repeated',x[x].shape[0])\n"
   ]
  },
  {
   "cell_type": "code",
   "execution_count": 13,
   "id": "1c211d85",
   "metadata": {},
   "outputs": [
    {
     "data": {
      "image/png": "[encoded data removed]",
      "text/plain": [
       "<Figure size 640x480 with 1 Axes>"
      ]
     },
     "metadata": {},
     "output_type": "display_data"
    }
   ],
   "source": [
    "#Repeated questons histogram\n",
    "plt.hist(qid.value_counts().values,bins=160)\n",
    "plt.yscale('log')\n",
    "plt.show()"
   ]
  },
  {
   "cell_type": "markdown",
   "id": "d4705164",
   "metadata": {},
   "source": [
    "There are question which has repeated around 37, 36, 27, 20, 15, etc"
   ]
  },
  {
   "cell_type": "markdown",
   "id": "c3d6373b",
   "metadata": {},
   "source": [
    "## Now we doing some feature engineering \n",
    "#### Length of each questions in each row:\n",
    "                q1_len = lenght of question1\n",
    "                q2_len = length of question2"
   ]
  },
  {
   "cell_type": "code",
   "execution_count": 14,
   "id": "e6f0fee5",
   "metadata": {},
   "outputs": [],
   "source": [
    "new_df['q1_len'] = new_df['question1'].str.len()\n",
    "new_df['q2_len'] = new_df['question2'].str.len()"
   ]
  },
  {
   "cell_type": "code",
   "execution_count": 15,
   "id": "c980bd82",
   "metadata": {},
   "outputs": [
    {
     "data": {
      "text/html": [
       "<div>\n",
       "<style scoped>\n",
       "    .dataframe tbody tr th:only-of-type {\n",
       "        vertical-align: middle;\n",
       "    }\n",
       "\n",
       "    .dataframe tbody tr th {\n",
       "        vertical-align: top;\n",
       "    }\n",
       "\n",
       "    .dataframe thead th {\n",
       "        text-align: right;\n",
       "    }\n",
       "</style>\n",
       "<table border=\"1\" class=\"dataframe\">\n",
       "  <thead>\n",
       "    <tr style=\"text-align: right;\">\n",
       "      <th></th>\n",
       "      <th>id</th>\n",
       "      <th>qid1</th>\n",
       "      <th>qid2</th>\n",
       "      <th>question1</th>\n",
       "      <th>question2</th>\n",
       "      <th>is_duplicate</th>\n",
       "      <th>q1_len</th>\n",
       "      <th>q2_len</th>\n",
       "    </tr>\n",
       "  </thead>\n",
       "  <tbody>\n",
       "    <tr>\n",
       "      <th>162260</th>\n",
       "      <td>162260</td>\n",
       "      <td>252637</td>\n",
       "      <td>78559</td>\n",
       "      <td>How can I accomplish more every single day?</td>\n",
       "      <td>How do I get motivated every single day?</td>\n",
       "      <td>0</td>\n",
       "      <td>43</td>\n",
       "      <td>40</td>\n",
       "    </tr>\n",
       "    <tr>\n",
       "      <th>300139</th>\n",
       "      <td>300139</td>\n",
       "      <td>422897</td>\n",
       "      <td>422898</td>\n",
       "      <td>How does GravityLight work?</td>\n",
       "      <td>How does GravityLight (From Deciwatt) work? Wh...</td>\n",
       "      <td>1</td>\n",
       "      <td>27</td>\n",
       "      <td>66</td>\n",
       "    </tr>\n",
       "  </tbody>\n",
       "</table>\n",
       "</div>"
      ],
      "text/plain": [
       "            id    qid1    qid2                                    question1  \\\n",
       "162260  162260  252637   78559  How can I accomplish more every single day?   \n",
       "300139  300139  422897  422898                  How does GravityLight work?   \n",
       "\n",
       "                                                question2  is_duplicate  \\\n",
       "162260           How do I get motivated every single day?             0   \n",
       "300139  How does GravityLight (From Deciwatt) work? Wh...             1   \n",
       "\n",
       "        q1_len  q2_len  \n",
       "162260      43      40  \n",
       "300139      27      66  "
      ]
     },
     "execution_count": 15,
     "metadata": {},
     "output_type": "execute_result"
    }
   ],
   "source": [
    "new_df.head(2)"
   ]
  },
  {
   "cell_type": "markdown",
   "id": "fd5f50aa",
   "metadata": {},
   "source": [
    "#### Count of words in each questions in each row:\n",
    "            q1_num_words = count of words in question1\n",
    "            q2_num_words = count of words in question2"
   ]
  },
  {
   "cell_type": "code",
   "execution_count": 16,
   "id": "13d83621",
   "metadata": {},
   "outputs": [],
   "source": [
    "new_df['q1_num_words'] = new_df['question1'].apply(lambda ques:len(ques.split()))\n",
    "new_df['q2_num_words'] = new_df['question2'].apply(lambda ques:len(ques.split()))"
   ]
  },
  {
   "cell_type": "code",
   "execution_count": 17,
   "id": "822d5623",
   "metadata": {},
   "outputs": [
    {
     "data": {
      "text/html": [
       "<div>\n",
       "<style scoped>\n",
       "    .dataframe tbody tr th:only-of-type {\n",
       "        vertical-align: middle;\n",
       "    }\n",
       "\n",
       "    .dataframe tbody tr th {\n",
       "        vertical-align: top;\n",
       "    }\n",
       "\n",
       "    .dataframe thead th {\n",
       "        text-align: right;\n",
       "    }\n",
       "</style>\n",
       "<table border=\"1\" class=\"dataframe\">\n",
       "  <thead>\n",
       "    <tr style=\"text-align: right;\">\n",
       "      <th></th>\n",
       "      <th>id</th>\n",
       "      <th>qid1</th>\n",
       "      <th>qid2</th>\n",
       "      <th>question1</th>\n",
       "      <th>question2</th>\n",
       "      <th>is_duplicate</th>\n",
       "      <th>q1_len</th>\n",
       "      <th>q2_len</th>\n",
       "      <th>q1_num_words</th>\n",
       "      <th>q2_num_words</th>\n",
       "    </tr>\n",
       "  </thead>\n",
       "  <tbody>\n",
       "    <tr>\n",
       "      <th>162260</th>\n",
       "      <td>162260</td>\n",
       "      <td>252637</td>\n",
       "      <td>78559</td>\n",
       "      <td>How can I accomplish more every single day?</td>\n",
       "      <td>How do I get motivated every single day?</td>\n",
       "      <td>0</td>\n",
       "      <td>43</td>\n",
       "      <td>40</td>\n",
       "      <td>8</td>\n",
       "      <td>8</td>\n",
       "    </tr>\n",
       "    <tr>\n",
       "      <th>300139</th>\n",
       "      <td>300139</td>\n",
       "      <td>422897</td>\n",
       "      <td>422898</td>\n",
       "      <td>How does GravityLight work?</td>\n",
       "      <td>How does GravityLight (From Deciwatt) work? Wh...</td>\n",
       "      <td>1</td>\n",
       "      <td>27</td>\n",
       "      <td>66</td>\n",
       "      <td>4</td>\n",
       "      <td>10</td>\n",
       "    </tr>\n",
       "  </tbody>\n",
       "</table>\n",
       "</div>"
      ],
      "text/plain": [
       "            id    qid1    qid2                                    question1  \\\n",
       "162260  162260  252637   78559  How can I accomplish more every single day?   \n",
       "300139  300139  422897  422898                  How does GravityLight work?   \n",
       "\n",
       "                                                question2  is_duplicate  \\\n",
       "162260           How do I get motivated every single day?             0   \n",
       "300139  How does GravityLight (From Deciwatt) work? Wh...             1   \n",
       "\n",
       "        q1_len  q2_len  q1_num_words  q2_num_words  \n",
       "162260      43      40             8             8  \n",
       "300139      27      66             4            10  "
      ]
     },
     "execution_count": 17,
     "metadata": {},
     "output_type": "execute_result"
    }
   ],
   "source": [
    "new_df.head(2)"
   ]
  },
  {
   "cell_type": "markdown",
   "id": "30275cbc",
   "metadata": {},
   "source": [
    "#### Number of common words in question1 and question2 = len_comm_wrd"
   ]
  },
  {
   "cell_type": "code",
   "execution_count": 18,
   "id": "890d216a",
   "metadata": {},
   "outputs": [],
   "source": [
    "def common(row):\n",
    "    w1 = set(map(lambda x: x.lower().strip(),row['question1'].split()))\n",
    "    w2 = set(map(lambda x: x.lower().strip(),row['question2'].split()))\n",
    "    return len(w1 & w2)"
   ]
  },
  {
   "cell_type": "code",
   "execution_count": 19,
   "id": "34143b88",
   "metadata": {},
   "outputs": [],
   "source": [
    "new_df['word_common'] = new_df.apply(common, axis=1)\n"
   ]
  },
  {
   "cell_type": "code",
   "execution_count": 20,
   "id": "47380ca2",
   "metadata": {},
   "outputs": [
    {
     "data": {
      "text/html": [
       "<div>\n",
       "<style scoped>\n",
       "    .dataframe tbody tr th:only-of-type {\n",
       "        vertical-align: middle;\n",
       "    }\n",
       "\n",
       "    .dataframe tbody tr th {\n",
       "        vertical-align: top;\n",
       "    }\n",
       "\n",
       "    .dataframe thead th {\n",
       "        text-align: right;\n",
       "    }\n",
       "</style>\n",
       "<table border=\"1\" class=\"dataframe\">\n",
       "  <thead>\n",
       "    <tr style=\"text-align: right;\">\n",
       "      <th></th>\n",
       "      <th>id</th>\n",
       "      <th>qid1</th>\n",
       "      <th>qid2</th>\n",
       "      <th>question1</th>\n",
       "      <th>question2</th>\n",
       "      <th>is_duplicate</th>\n",
       "      <th>q1_len</th>\n",
       "      <th>q2_len</th>\n",
       "      <th>q1_num_words</th>\n",
       "      <th>q2_num_words</th>\n",
       "      <th>word_common</th>\n",
       "    </tr>\n",
       "  </thead>\n",
       "  <tbody>\n",
       "    <tr>\n",
       "      <th>162260</th>\n",
       "      <td>162260</td>\n",
       "      <td>252637</td>\n",
       "      <td>78559</td>\n",
       "      <td>How can I accomplish more every single day?</td>\n",
       "      <td>How do I get motivated every single day?</td>\n",
       "      <td>0</td>\n",
       "      <td>43</td>\n",
       "      <td>40</td>\n",
       "      <td>8</td>\n",
       "      <td>8</td>\n",
       "      <td>5</td>\n",
       "    </tr>\n",
       "    <tr>\n",
       "      <th>300139</th>\n",
       "      <td>300139</td>\n",
       "      <td>422897</td>\n",
       "      <td>422898</td>\n",
       "      <td>How does GravityLight work?</td>\n",
       "      <td>How does GravityLight (From Deciwatt) work? Wh...</td>\n",
       "      <td>1</td>\n",
       "      <td>27</td>\n",
       "      <td>66</td>\n",
       "      <td>4</td>\n",
       "      <td>10</td>\n",
       "      <td>4</td>\n",
       "    </tr>\n",
       "    <tr>\n",
       "      <th>169568</th>\n",
       "      <td>169568</td>\n",
       "      <td>187323</td>\n",
       "      <td>74117</td>\n",
       "      <td>Why should I not vote for Trump? (Someone aske...</td>\n",
       "      <td>Why should I not vote for Trump?</td>\n",
       "      <td>1</td>\n",
       "      <td>95</td>\n",
       "      <td>32</td>\n",
       "      <td>19</td>\n",
       "      <td>7</td>\n",
       "      <td>7</td>\n",
       "    </tr>\n",
       "    <tr>\n",
       "      <th>345040</th>\n",
       "      <td>345040</td>\n",
       "      <td>473326</td>\n",
       "      <td>473327</td>\n",
       "      <td>What is the best RZA verse?</td>\n",
       "      <td>What are the craziest rap verses?</td>\n",
       "      <td>0</td>\n",
       "      <td>27</td>\n",
       "      <td>33</td>\n",
       "      <td>6</td>\n",
       "      <td>6</td>\n",
       "      <td>2</td>\n",
       "    </tr>\n",
       "    <tr>\n",
       "      <th>30329</th>\n",
       "      <td>30329</td>\n",
       "      <td>56030</td>\n",
       "      <td>56031</td>\n",
       "      <td>Which programming languages should have to lea...</td>\n",
       "      <td>What programming language should I learn for m...</td>\n",
       "      <td>1</td>\n",
       "      <td>69</td>\n",
       "      <td>61</td>\n",
       "      <td>10</td>\n",
       "      <td>9</td>\n",
       "      <td>6</td>\n",
       "    </tr>\n",
       "  </tbody>\n",
       "</table>\n",
       "</div>"
      ],
      "text/plain": [
       "            id    qid1    qid2  \\\n",
       "162260  162260  252637   78559   \n",
       "300139  300139  422897  422898   \n",
       "169568  169568  187323   74117   \n",
       "345040  345040  473326  473327   \n",
       "30329    30329   56030   56031   \n",
       "\n",
       "                                                question1  \\\n",
       "162260        How can I accomplish more every single day?   \n",
       "300139                        How does GravityLight work?   \n",
       "169568  Why should I not vote for Trump? (Someone aske...   \n",
       "345040                        What is the best RZA verse?   \n",
       "30329   Which programming languages should have to lea...   \n",
       "\n",
       "                                                question2  is_duplicate  \\\n",
       "162260           How do I get motivated every single day?             0   \n",
       "300139  How does GravityLight (From Deciwatt) work? Wh...             1   \n",
       "169568                   Why should I not vote for Trump?             1   \n",
       "345040                  What are the craziest rap verses?             0   \n",
       "30329   What programming language should I learn for m...             1   \n",
       "\n",
       "        q1_len  q2_len  q1_num_words  q2_num_words  word_common  \n",
       "162260      43      40             8             8            5  \n",
       "300139      27      66             4            10            4  \n",
       "169568      95      32            19             7            7  \n",
       "345040      27      33             6             6            2  \n",
       "30329       69      61            10             9            6  "
      ]
     },
     "execution_count": 20,
     "metadata": {},
     "output_type": "execute_result"
    }
   ],
   "source": [
    "new_df.head()"
   ]
  },
  {
   "cell_type": "markdown",
   "id": "875177d9",
   "metadata": {},
   "source": [
    "#### Length of word1 +word2 = len_total_words"
   ]
  },
  {
   "cell_type": "code",
   "execution_count": 21,
   "id": "9b7fc934",
   "metadata": {},
   "outputs": [],
   "source": [
    "def total_words(row):\n",
    "    w1 = set(map(lambda x : x.lower().strip(),row['question1'].split()))\n",
    "    w2 = set(map(lambda x : x.lower().strip(),row['question2'].split()))\n",
    "    return len(w1) + len(w2)"
   ]
  },
  {
   "cell_type": "code",
   "execution_count": 22,
   "id": "25183d7b",
   "metadata": {},
   "outputs": [],
   "source": [
    "new_df['word_total'] = new_df.apply(total_words, axis =1)"
   ]
  },
  {
   "cell_type": "code",
   "execution_count": 23,
   "id": "28eb33a1",
   "metadata": {},
   "outputs": [
    {
     "data": {
      "text/html": [
       "<div>\n",
       "<style scoped>\n",
       "    .dataframe tbody tr th:only-of-type {\n",
       "        vertical-align: middle;\n",
       "    }\n",
       "\n",
       "    .dataframe tbody tr th {\n",
       "        vertical-align: top;\n",
       "    }\n",
       "\n",
       "    .dataframe thead th {\n",
       "        text-align: right;\n",
       "    }\n",
       "</style>\n",
       "<table border=\"1\" class=\"dataframe\">\n",
       "  <thead>\n",
       "    <tr style=\"text-align: right;\">\n",
       "      <th></th>\n",
       "      <th>id</th>\n",
       "      <th>qid1</th>\n",
       "      <th>qid2</th>\n",
       "      <th>question1</th>\n",
       "      <th>question2</th>\n",
       "      <th>is_duplicate</th>\n",
       "      <th>q1_len</th>\n",
       "      <th>q2_len</th>\n",
       "      <th>q1_num_words</th>\n",
       "      <th>q2_num_words</th>\n",
       "      <th>word_common</th>\n",
       "      <th>word_total</th>\n",
       "    </tr>\n",
       "  </thead>\n",
       "  <tbody>\n",
       "    <tr>\n",
       "      <th>162260</th>\n",
       "      <td>162260</td>\n",
       "      <td>252637</td>\n",
       "      <td>78559</td>\n",
       "      <td>How can I accomplish more every single day?</td>\n",
       "      <td>How do I get motivated every single day?</td>\n",
       "      <td>0</td>\n",
       "      <td>43</td>\n",
       "      <td>40</td>\n",
       "      <td>8</td>\n",
       "      <td>8</td>\n",
       "      <td>5</td>\n",
       "      <td>16</td>\n",
       "    </tr>\n",
       "    <tr>\n",
       "      <th>300139</th>\n",
       "      <td>300139</td>\n",
       "      <td>422897</td>\n",
       "      <td>422898</td>\n",
       "      <td>How does GravityLight work?</td>\n",
       "      <td>How does GravityLight (From Deciwatt) work? Wh...</td>\n",
       "      <td>1</td>\n",
       "      <td>27</td>\n",
       "      <td>66</td>\n",
       "      <td>4</td>\n",
       "      <td>10</td>\n",
       "      <td>4</td>\n",
       "      <td>14</td>\n",
       "    </tr>\n",
       "    <tr>\n",
       "      <th>169568</th>\n",
       "      <td>169568</td>\n",
       "      <td>187323</td>\n",
       "      <td>74117</td>\n",
       "      <td>Why should I not vote for Trump? (Someone aske...</td>\n",
       "      <td>Why should I not vote for Trump?</td>\n",
       "      <td>1</td>\n",
       "      <td>95</td>\n",
       "      <td>32</td>\n",
       "      <td>19</td>\n",
       "      <td>7</td>\n",
       "      <td>7</td>\n",
       "      <td>25</td>\n",
       "    </tr>\n",
       "  </tbody>\n",
       "</table>\n",
       "</div>"
      ],
      "text/plain": [
       "            id    qid1    qid2  \\\n",
       "162260  162260  252637   78559   \n",
       "300139  300139  422897  422898   \n",
       "169568  169568  187323   74117   \n",
       "\n",
       "                                                question1  \\\n",
       "162260        How can I accomplish more every single day?   \n",
       "300139                        How does GravityLight work?   \n",
       "169568  Why should I not vote for Trump? (Someone aske...   \n",
       "\n",
       "                                                question2  is_duplicate  \\\n",
       "162260           How do I get motivated every single day?             0   \n",
       "300139  How does GravityLight (From Deciwatt) work? Wh...             1   \n",
       "169568                   Why should I not vote for Trump?             1   \n",
       "\n",
       "        q1_len  q2_len  q1_num_words  q2_num_words  word_common  word_total  \n",
       "162260      43      40             8             8            5          16  \n",
       "300139      27      66             4            10            4          14  \n",
       "169568      95      32            19             7            7          25  "
      ]
     },
     "execution_count": 23,
     "metadata": {},
     "output_type": "execute_result"
    }
   ],
   "source": [
    "new_df.head(3)"
   ]
  },
  {
   "cell_type": "markdown",
   "id": "0f1e1cbf",
   "metadata": {},
   "source": [
    "#### Ratio of common word to total number of words"
   ]
  },
  {
   "cell_type": "code",
   "execution_count": 24,
   "id": "7102ad84",
   "metadata": {},
   "outputs": [
    {
     "data": {
      "text/html": [
       "<div>\n",
       "<style scoped>\n",
       "    .dataframe tbody tr th:only-of-type {\n",
       "        vertical-align: middle;\n",
       "    }\n",
       "\n",
       "    .dataframe tbody tr th {\n",
       "        vertical-align: top;\n",
       "    }\n",
       "\n",
       "    .dataframe thead th {\n",
       "        text-align: right;\n",
       "    }\n",
       "</style>\n",
       "<table border=\"1\" class=\"dataframe\">\n",
       "  <thead>\n",
       "    <tr style=\"text-align: right;\">\n",
       "      <th></th>\n",
       "      <th>id</th>\n",
       "      <th>qid1</th>\n",
       "      <th>qid2</th>\n",
       "      <th>question1</th>\n",
       "      <th>question2</th>\n",
       "      <th>is_duplicate</th>\n",
       "      <th>q1_len</th>\n",
       "      <th>q2_len</th>\n",
       "      <th>q1_num_words</th>\n",
       "      <th>q2_num_words</th>\n",
       "      <th>word_common</th>\n",
       "      <th>word_total</th>\n",
       "      <th>word_share</th>\n",
       "    </tr>\n",
       "  </thead>\n",
       "  <tbody>\n",
       "    <tr>\n",
       "      <th>162260</th>\n",
       "      <td>162260</td>\n",
       "      <td>252637</td>\n",
       "      <td>78559</td>\n",
       "      <td>How can I accomplish more every single day?</td>\n",
       "      <td>How do I get motivated every single day?</td>\n",
       "      <td>0</td>\n",
       "      <td>43</td>\n",
       "      <td>40</td>\n",
       "      <td>8</td>\n",
       "      <td>8</td>\n",
       "      <td>5</td>\n",
       "      <td>16</td>\n",
       "      <td>0.31</td>\n",
       "    </tr>\n",
       "    <tr>\n",
       "      <th>300139</th>\n",
       "      <td>300139</td>\n",
       "      <td>422897</td>\n",
       "      <td>422898</td>\n",
       "      <td>How does GravityLight work?</td>\n",
       "      <td>How does GravityLight (From Deciwatt) work? Wh...</td>\n",
       "      <td>1</td>\n",
       "      <td>27</td>\n",
       "      <td>66</td>\n",
       "      <td>4</td>\n",
       "      <td>10</td>\n",
       "      <td>4</td>\n",
       "      <td>14</td>\n",
       "      <td>0.29</td>\n",
       "    </tr>\n",
       "    <tr>\n",
       "      <th>169568</th>\n",
       "      <td>169568</td>\n",
       "      <td>187323</td>\n",
       "      <td>74117</td>\n",
       "      <td>Why should I not vote for Trump? (Someone aske...</td>\n",
       "      <td>Why should I not vote for Trump?</td>\n",
       "      <td>1</td>\n",
       "      <td>95</td>\n",
       "      <td>32</td>\n",
       "      <td>19</td>\n",
       "      <td>7</td>\n",
       "      <td>7</td>\n",
       "      <td>25</td>\n",
       "      <td>0.28</td>\n",
       "    </tr>\n",
       "    <tr>\n",
       "      <th>345040</th>\n",
       "      <td>345040</td>\n",
       "      <td>473326</td>\n",
       "      <td>473327</td>\n",
       "      <td>What is the best RZA verse?</td>\n",
       "      <td>What are the craziest rap verses?</td>\n",
       "      <td>0</td>\n",
       "      <td>27</td>\n",
       "      <td>33</td>\n",
       "      <td>6</td>\n",
       "      <td>6</td>\n",
       "      <td>2</td>\n",
       "      <td>12</td>\n",
       "      <td>0.17</td>\n",
       "    </tr>\n",
       "    <tr>\n",
       "      <th>30329</th>\n",
       "      <td>30329</td>\n",
       "      <td>56030</td>\n",
       "      <td>56031</td>\n",
       "      <td>Which programming languages should have to lea...</td>\n",
       "      <td>What programming language should I learn for m...</td>\n",
       "      <td>1</td>\n",
       "      <td>69</td>\n",
       "      <td>61</td>\n",
       "      <td>10</td>\n",
       "      <td>9</td>\n",
       "      <td>6</td>\n",
       "      <td>19</td>\n",
       "      <td>0.32</td>\n",
       "    </tr>\n",
       "  </tbody>\n",
       "</table>\n",
       "</div>"
      ],
      "text/plain": [
       "            id    qid1    qid2  \\\n",
       "162260  162260  252637   78559   \n",
       "300139  300139  422897  422898   \n",
       "169568  169568  187323   74117   \n",
       "345040  345040  473326  473327   \n",
       "30329    30329   56030   56031   \n",
       "\n",
       "                                                question1  \\\n",
       "162260        How can I accomplish more every single day?   \n",
       "300139                        How does GravityLight work?   \n",
       "169568  Why should I not vote for Trump? (Someone aske...   \n",
       "345040                        What is the best RZA verse?   \n",
       "30329   Which programming languages should have to lea...   \n",
       "\n",
       "                                                question2  is_duplicate  \\\n",
       "162260           How do I get motivated every single day?             0   \n",
       "300139  How does GravityLight (From Deciwatt) work? Wh...             1   \n",
       "169568                   Why should I not vote for Trump?             1   \n",
       "345040                  What are the craziest rap verses?             0   \n",
       "30329   What programming language should I learn for m...             1   \n",
       "\n",
       "        q1_len  q2_len  q1_num_words  q2_num_words  word_common  word_total  \\\n",
       "162260      43      40             8             8            5          16   \n",
       "300139      27      66             4            10            4          14   \n",
       "169568      95      32            19             7            7          25   \n",
       "345040      27      33             6             6            2          12   \n",
       "30329       69      61            10             9            6          19   \n",
       "\n",
       "        word_share  \n",
       "162260        0.31  \n",
       "300139        0.29  \n",
       "169568        0.28  \n",
       "345040        0.17  \n",
       "30329         0.32  "
      ]
     },
     "execution_count": 24,
     "metadata": {},
     "output_type": "execute_result"
    }
   ],
   "source": [
    "new_df['word_share'] = round(new_df['word_common']/new_df['word_total'],2)\n",
    "new_df.head()"
   ]
  },
  {
   "cell_type": "markdown",
   "id": "abdcfa90",
   "metadata": {},
   "source": [
    "## Analysis of newly added features"
   ]
  },
  {
   "cell_type": "code",
   "execution_count": 25,
   "id": "02eb14a8",
   "metadata": {},
   "outputs": [
    {
     "name": "stdout",
     "output_type": "stream",
     "text": [
      "minimum characters 1\n",
      "maximum characters 623\n",
      "average num of characters 59\n"
     ]
    },
    {
     "data": {
      "image/png": "[encoded data removed]",
      "text/plain": [
       "<Figure size 500x500 with 1 Axes>"
      ]
     },
     "metadata": {},
     "output_type": "display_data"
    }
   ],
   "source": [
    "# Analysis of q1_len features\n",
    "sns.displot(new_df['q1_len'])\n",
    "print('minimum characters',new_df['q1_len'].min())\n",
    "print('maximum characters',new_df['q1_len'].max())\n",
    "print('average num of characters',int(new_df['q1_len'].mean()))"
   ]
  },
  {
   "cell_type": "code",
   "execution_count": 26,
   "id": "47cb3f21",
   "metadata": {},
   "outputs": [
    {
     "data": {
      "text/plain": [
       "<seaborn.axisgrid.FacetGrid at 0x13b1fec20>"
      ]
     },
     "execution_count": 26,
     "metadata": {},
     "output_type": "execute_result"
    },
    {
     "data": {
      "image/png": "[encoded data removed]",
      "text/plain": [
       "<Figure size 500x500 with 1 Axes>"
      ]
     },
     "metadata": {},
     "output_type": "display_data"
    }
   ],
   "source": [
    "sns.displot(new_df['q2_len'])"
   ]
  },
  {
   "cell_type": "code",
   "execution_count": 27,
   "id": "a7b2e7f5",
   "metadata": {},
   "outputs": [
    {
     "name": "stdout",
     "output_type": "stream",
     "text": [
      "minimum words 1\n",
      "maximum words 125\n",
      "average num of words 10\n"
     ]
    },
    {
     "data": {
      "image/png": "[encoded data removed]",
      "text/plain": [
       "<Figure size 500x500 with 1 Axes>"
      ]
     },
     "metadata": {},
     "output_type": "display_data"
    }
   ],
   "source": [
    "sns.displot(new_df[\"q1_num_words\"])\n",
    "print('minimum words',new_df['q1_num_words'].min())\n",
    "print('maximum words',new_df['q1_num_words'].max())\n",
    "print('average num of words',int(new_df['q1_num_words'].mean()))"
   ]
  },
  {
   "cell_type": "code",
   "execution_count": 28,
   "id": "baf5f73d",
   "metadata": {},
   "outputs": [
    {
     "name": "stdout",
     "output_type": "stream",
     "text": [
      "Minimun number: 1\n",
      "Maximum number: 237\n",
      "Average number: 11.13512\n"
     ]
    },
    {
     "data": {
      "image/png": "[encoded data removed]",
      "text/plain": [
       "<Figure size 500x500 with 1 Axes>"
      ]
     },
     "metadata": {},
     "output_type": "display_data"
    }
   ],
   "source": [
    "sns.displot(new_df[\"q2_num_words\"])\n",
    "print(\"Minimun number:\", new_df[\"q2_num_words\"].min())\n",
    "print(\"Maximum number:\", new_df[\"q2_num_words\"].max())\n",
    "print(\"Average number:\", new_df[\"q2_num_words\"].mean())"
   ]
  },
  {
   "cell_type": "code",
   "execution_count": 29,
   "id": "144b0701",
   "metadata": {},
   "outputs": [
    {
     "data": {
      "text/html": [
       "<div>\n",
       "<style scoped>\n",
       "    .dataframe tbody tr th:only-of-type {\n",
       "        vertical-align: middle;\n",
       "    }\n",
       "\n",
       "    .dataframe tbody tr th {\n",
       "        vertical-align: top;\n",
       "    }\n",
       "\n",
       "    .dataframe thead th {\n",
       "        text-align: right;\n",
       "    }\n",
       "</style>\n",
       "<table border=\"1\" class=\"dataframe\">\n",
       "  <thead>\n",
       "    <tr style=\"text-align: right;\">\n",
       "      <th></th>\n",
       "      <th>question1</th>\n",
       "      <th>question2</th>\n",
       "    </tr>\n",
       "  </thead>\n",
       "  <tbody>\n",
       "    <tr>\n",
       "      <th>162260</th>\n",
       "      <td>How can I accomplish more every single day?</td>\n",
       "      <td>How do I get motivated every single day?</td>\n",
       "    </tr>\n",
       "    <tr>\n",
       "      <th>300139</th>\n",
       "      <td>How does GravityLight work?</td>\n",
       "      <td>How does GravityLight (From Deciwatt) work? Wh...</td>\n",
       "    </tr>\n",
       "    <tr>\n",
       "      <th>169568</th>\n",
       "      <td>Why should I not vote for Trump? (Someone aske...</td>\n",
       "      <td>Why should I not vote for Trump?</td>\n",
       "    </tr>\n",
       "    <tr>\n",
       "      <th>345040</th>\n",
       "      <td>What is the best RZA verse?</td>\n",
       "      <td>What are the craziest rap verses?</td>\n",
       "    </tr>\n",
       "    <tr>\n",
       "      <th>30329</th>\n",
       "      <td>Which programming languages should have to lea...</td>\n",
       "      <td>What programming language should I learn for m...</td>\n",
       "    </tr>\n",
       "  </tbody>\n",
       "</table>\n",
       "</div>"
      ],
      "text/plain": [
       "                                                question1  \\\n",
       "162260        How can I accomplish more every single day?   \n",
       "300139                        How does GravityLight work?   \n",
       "169568  Why should I not vote for Trump? (Someone aske...   \n",
       "345040                        What is the best RZA verse?   \n",
       "30329   Which programming languages should have to lea...   \n",
       "\n",
       "                                                question2  \n",
       "162260           How do I get motivated every single day?  \n",
       "300139  How does GravityLight (From Deciwatt) work? Wh...  \n",
       "169568                   Why should I not vote for Trump?  \n",
       "345040                  What are the craziest rap verses?  \n",
       "30329   What programming language should I learn for m...  "
      ]
     },
     "execution_count": 29,
     "metadata": {},
     "output_type": "execute_result"
    }
   ],
   "source": [
    "ques_df = new_df[['question1','question2']]\n",
    "ques_df.head()"
   ]
  },
  {
   "cell_type": "code",
   "execution_count": 30,
   "id": "757338fc",
   "metadata": {},
   "outputs": [
    {
     "name": "stdout",
     "output_type": "stream",
     "text": [
      "(50000, 8)\n"
     ]
    },
    {
     "data": {
      "text/html": [
       "<div>\n",
       "<style scoped>\n",
       "    .dataframe tbody tr th:only-of-type {\n",
       "        vertical-align: middle;\n",
       "    }\n",
       "\n",
       "    .dataframe tbody tr th {\n",
       "        vertical-align: top;\n",
       "    }\n",
       "\n",
       "    .dataframe thead th {\n",
       "        text-align: right;\n",
       "    }\n",
       "</style>\n",
       "<table border=\"1\" class=\"dataframe\">\n",
       "  <thead>\n",
       "    <tr style=\"text-align: right;\">\n",
       "      <th></th>\n",
       "      <th>is_duplicate</th>\n",
       "      <th>q1_len</th>\n",
       "      <th>q2_len</th>\n",
       "      <th>q1_num_words</th>\n",
       "      <th>q2_num_words</th>\n",
       "      <th>word_common</th>\n",
       "      <th>word_total</th>\n",
       "      <th>word_share</th>\n",
       "    </tr>\n",
       "  </thead>\n",
       "  <tbody>\n",
       "    <tr>\n",
       "      <th>162260</th>\n",
       "      <td>0</td>\n",
       "      <td>43</td>\n",
       "      <td>40</td>\n",
       "      <td>8</td>\n",
       "      <td>8</td>\n",
       "      <td>5</td>\n",
       "      <td>16</td>\n",
       "      <td>0.31</td>\n",
       "    </tr>\n",
       "    <tr>\n",
       "      <th>300139</th>\n",
       "      <td>1</td>\n",
       "      <td>27</td>\n",
       "      <td>66</td>\n",
       "      <td>4</td>\n",
       "      <td>10</td>\n",
       "      <td>4</td>\n",
       "      <td>14</td>\n",
       "      <td>0.29</td>\n",
       "    </tr>\n",
       "    <tr>\n",
       "      <th>169568</th>\n",
       "      <td>1</td>\n",
       "      <td>95</td>\n",
       "      <td>32</td>\n",
       "      <td>19</td>\n",
       "      <td>7</td>\n",
       "      <td>7</td>\n",
       "      <td>25</td>\n",
       "      <td>0.28</td>\n",
       "    </tr>\n",
       "    <tr>\n",
       "      <th>345040</th>\n",
       "      <td>0</td>\n",
       "      <td>27</td>\n",
       "      <td>33</td>\n",
       "      <td>6</td>\n",
       "      <td>6</td>\n",
       "      <td>2</td>\n",
       "      <td>12</td>\n",
       "      <td>0.17</td>\n",
       "    </tr>\n",
       "    <tr>\n",
       "      <th>30329</th>\n",
       "      <td>1</td>\n",
       "      <td>69</td>\n",
       "      <td>61</td>\n",
       "      <td>10</td>\n",
       "      <td>9</td>\n",
       "      <td>6</td>\n",
       "      <td>19</td>\n",
       "      <td>0.32</td>\n",
       "    </tr>\n",
       "  </tbody>\n",
       "</table>\n",
       "</div>"
      ],
      "text/plain": [
       "        is_duplicate  q1_len  q2_len  q1_num_words  q2_num_words  word_common  \\\n",
       "162260             0      43      40             8             8            5   \n",
       "300139             1      27      66             4            10            4   \n",
       "169568             1      95      32            19             7            7   \n",
       "345040             0      27      33             6             6            2   \n",
       "30329              1      69      61            10             9            6   \n",
       "\n",
       "        word_total  word_share  \n",
       "162260          16        0.31  \n",
       "300139          14        0.29  \n",
       "169568          25        0.28  \n",
       "345040          12        0.17  \n",
       "30329           19        0.32  "
      ]
     },
     "execution_count": 30,
     "metadata": {},
     "output_type": "execute_result"
    }
   ],
   "source": [
    "final_df = new_df.drop(columns=['id','qid1','qid2','question1','question2'])\n",
    "print(final_df.shape)\n",
    "final_df.head()"
   ]
  },
  {
   "cell_type": "code",
   "execution_count": 31,
   "id": "f3f1be9f",
   "metadata": {},
   "outputs": [],
   "source": [
    "from sklearn.feature_extraction.text import CountVectorizer\n",
    "# merge texts\n",
    "questions = list(ques_df['question1']) + list(ques_df['question2'])\n",
    "\n",
    "cv = CountVectorizer(max_features=3000)\n",
    "q1_arr, q2_arr = np.vsplit(cv.fit_transform(questions).toarray(),2)"
   ]
  },
  {
   "cell_type": "code",
   "execution_count": 32,
   "id": "7d468878",
   "metadata": {},
   "outputs": [
    {
     "data": {
      "text/plain": [
       "(50000, 6000)"
      ]
     },
     "execution_count": 32,
     "metadata": {},
     "output_type": "execute_result"
    }
   ],
   "source": [
    "temp_df1 = pd.DataFrame(q1_arr, index= ques_df.index)\n",
    "temp_df2 = pd.DataFrame(q2_arr, index= ques_df.index)\n",
    "temp_df = pd.concat([temp_df1, temp_df2], axis=1)\n",
    "temp_df.shape"
   ]
  },
  {
   "cell_type": "code",
   "execution_count": 33,
   "id": "6dc6d770",
   "metadata": {
    "scrolled": true
   },
   "outputs": [
    {
     "name": "stdout",
     "output_type": "stream",
     "text": [
      "(50000, 6008)\n"
     ]
    },
    {
     "data": {
      "text/html": [
       "<div>\n",
       "<style scoped>\n",
       "    .dataframe tbody tr th:only-of-type {\n",
       "        vertical-align: middle;\n",
       "    }\n",
       "\n",
       "    .dataframe tbody tr th {\n",
       "        vertical-align: top;\n",
       "    }\n",
       "\n",
       "    .dataframe thead th {\n",
       "        text-align: right;\n",
       "    }\n",
       "</style>\n",
       "<table border=\"1\" class=\"dataframe\">\n",
       "  <thead>\n",
       "    <tr style=\"text-align: right;\">\n",
       "      <th></th>\n",
       "      <th>is_duplicate</th>\n",
       "      <th>q1_len</th>\n",
       "      <th>q2_len</th>\n",
       "      <th>q1_num_words</th>\n",
       "      <th>q2_num_words</th>\n",
       "      <th>word_common</th>\n",
       "      <th>word_total</th>\n",
       "      <th>word_share</th>\n",
       "      <th>0</th>\n",
       "      <th>1</th>\n",
       "      <th>...</th>\n",
       "      <th>2990</th>\n",
       "      <th>2991</th>\n",
       "      <th>2992</th>\n",
       "      <th>2993</th>\n",
       "      <th>2994</th>\n",
       "      <th>2995</th>\n",
       "      <th>2996</th>\n",
       "      <th>2997</th>\n",
       "      <th>2998</th>\n",
       "      <th>2999</th>\n",
       "    </tr>\n",
       "  </thead>\n",
       "  <tbody>\n",
       "    <tr>\n",
       "      <th>162260</th>\n",
       "      <td>0</td>\n",
       "      <td>43</td>\n",
       "      <td>40</td>\n",
       "      <td>8</td>\n",
       "      <td>8</td>\n",
       "      <td>5</td>\n",
       "      <td>16</td>\n",
       "      <td>0.31</td>\n",
       "      <td>0</td>\n",
       "      <td>0</td>\n",
       "      <td>...</td>\n",
       "      <td>0</td>\n",
       "      <td>0</td>\n",
       "      <td>0</td>\n",
       "      <td>0</td>\n",
       "      <td>0</td>\n",
       "      <td>0</td>\n",
       "      <td>0</td>\n",
       "      <td>0</td>\n",
       "      <td>0</td>\n",
       "      <td>0</td>\n",
       "    </tr>\n",
       "    <tr>\n",
       "      <th>300139</th>\n",
       "      <td>1</td>\n",
       "      <td>27</td>\n",
       "      <td>66</td>\n",
       "      <td>4</td>\n",
       "      <td>10</td>\n",
       "      <td>4</td>\n",
       "      <td>14</td>\n",
       "      <td>0.29</td>\n",
       "      <td>0</td>\n",
       "      <td>0</td>\n",
       "      <td>...</td>\n",
       "      <td>0</td>\n",
       "      <td>0</td>\n",
       "      <td>0</td>\n",
       "      <td>0</td>\n",
       "      <td>0</td>\n",
       "      <td>0</td>\n",
       "      <td>0</td>\n",
       "      <td>0</td>\n",
       "      <td>0</td>\n",
       "      <td>0</td>\n",
       "    </tr>\n",
       "    <tr>\n",
       "      <th>169568</th>\n",
       "      <td>1</td>\n",
       "      <td>95</td>\n",
       "      <td>32</td>\n",
       "      <td>19</td>\n",
       "      <td>7</td>\n",
       "      <td>7</td>\n",
       "      <td>25</td>\n",
       "      <td>0.28</td>\n",
       "      <td>0</td>\n",
       "      <td>0</td>\n",
       "      <td>...</td>\n",
       "      <td>0</td>\n",
       "      <td>0</td>\n",
       "      <td>0</td>\n",
       "      <td>0</td>\n",
       "      <td>0</td>\n",
       "      <td>0</td>\n",
       "      <td>0</td>\n",
       "      <td>0</td>\n",
       "      <td>0</td>\n",
       "      <td>0</td>\n",
       "    </tr>\n",
       "    <tr>\n",
       "      <th>345040</th>\n",
       "      <td>0</td>\n",
       "      <td>27</td>\n",
       "      <td>33</td>\n",
       "      <td>6</td>\n",
       "      <td>6</td>\n",
       "      <td>2</td>\n",
       "      <td>12</td>\n",
       "      <td>0.17</td>\n",
       "      <td>0</td>\n",
       "      <td>0</td>\n",
       "      <td>...</td>\n",
       "      <td>0</td>\n",
       "      <td>0</td>\n",
       "      <td>0</td>\n",
       "      <td>0</td>\n",
       "      <td>0</td>\n",
       "      <td>0</td>\n",
       "      <td>0</td>\n",
       "      <td>0</td>\n",
       "      <td>0</td>\n",
       "      <td>0</td>\n",
       "    </tr>\n",
       "    <tr>\n",
       "      <th>30329</th>\n",
       "      <td>1</td>\n",
       "      <td>69</td>\n",
       "      <td>61</td>\n",
       "      <td>10</td>\n",
       "      <td>9</td>\n",
       "      <td>6</td>\n",
       "      <td>19</td>\n",
       "      <td>0.32</td>\n",
       "      <td>0</td>\n",
       "      <td>0</td>\n",
       "      <td>...</td>\n",
       "      <td>0</td>\n",
       "      <td>0</td>\n",
       "      <td>0</td>\n",
       "      <td>0</td>\n",
       "      <td>0</td>\n",
       "      <td>0</td>\n",
       "      <td>0</td>\n",
       "      <td>0</td>\n",
       "      <td>0</td>\n",
       "      <td>0</td>\n",
       "    </tr>\n",
       "  </tbody>\n",
       "</table>\n",
       "<p>5 rows × 6008 columns</p>\n",
       "</div>"
      ],
      "text/plain": [
       "        is_duplicate  q1_len  q2_len  q1_num_words  q2_num_words  word_common  \\\n",
       "162260             0      43      40             8             8            5   \n",
       "300139             1      27      66             4            10            4   \n",
       "169568             1      95      32            19             7            7   \n",
       "345040             0      27      33             6             6            2   \n",
       "30329              1      69      61            10             9            6   \n",
       "\n",
       "        word_total  word_share  0  1  ...  2990  2991  2992  2993  2994  2995  \\\n",
       "162260          16        0.31  0  0  ...     0     0     0     0     0     0   \n",
       "300139          14        0.29  0  0  ...     0     0     0     0     0     0   \n",
       "169568          25        0.28  0  0  ...     0     0     0     0     0     0   \n",
       "345040          12        0.17  0  0  ...     0     0     0     0     0     0   \n",
       "30329           19        0.32  0  0  ...     0     0     0     0     0     0   \n",
       "\n",
       "        2996  2997  2998  2999  \n",
       "162260     0     0     0     0  \n",
       "300139     0     0     0     0  \n",
       "169568     0     0     0     0  \n",
       "345040     0     0     0     0  \n",
       "30329      0     0     0     0  \n",
       "\n",
       "[5 rows x 6008 columns]"
      ]
     },
     "execution_count": 33,
     "metadata": {},
     "output_type": "execute_result"
    }
   ],
   "source": [
    "final_df = pd.concat([final_df, temp_df], axis=1)\n",
    "print(final_df.shape)\n",
    "final_df.head()"
   ]
  },
  {
   "cell_type": "code",
   "execution_count": 34,
   "id": "2e973f28",
   "metadata": {},
   "outputs": [],
   "source": [
    "X = final_df.iloc[:,1:].values\n",
    "y = final_df.iloc[:,0].values"
   ]
  },
  {
   "cell_type": "code",
   "execution_count": 35,
   "id": "a7b89367",
   "metadata": {},
   "outputs": [],
   "source": [
    "from sklearn.model_selection import train_test_split\n",
    "X_train,X_test,y_train,y_test = train_test_split(X,y,test_size=0.2,random_state=1)\n"
   ]
  },
  {
   "cell_type": "code",
   "execution_count": 36,
   "id": "937a126c",
   "metadata": {},
   "outputs": [
    {
     "data": {
      "text/plain": [
       "0.7758"
      ]
     },
     "execution_count": 36,
     "metadata": {},
     "output_type": "execute_result"
    }
   ],
   "source": [
    "from sklearn.ensemble import RandomForestClassifier\n",
    "from sklearn.metrics import accuracy_score\n",
    "rf = RandomForestClassifier()\n",
    "rf.fit(X_train,y_train)\n",
    "y_pred = rf.predict(X_test)\n",
    "accuracy_score(y_test,y_pred)"
   ]
  },
  {
   "cell_type": "code",
   "execution_count": 37,
   "id": "16d487e5",
   "metadata": {},
   "outputs": [],
   "source": [
    "from xgboost import XGBClassifier\n"
   ]
  },
  {
   "cell_type": "code",
   "execution_count": 39,
   "id": "f1c12baf",
   "metadata": {},
   "outputs": [
    {
     "data": {
      "text/plain": [
       "0.7709"
      ]
     },
     "execution_count": 39,
     "metadata": {},
     "output_type": "execute_result"
    }
   ],
   "source": [
    "xgb = XGBClassifier(eval_metric = 'logloss')\n",
    "xgb.fit(X_train,y_train)\n",
    "y_pred = xgb.predict(X_test)\n",
    "accuracy_score(y_test,y_pred)\n"
   ]
  },
  {
   "cell_type": "code",
   "execution_count": 41,
   "id": "d13565ba",
   "metadata": {},
   "outputs": [],
   "source": [
    "from sklearn.linear_model import LogisticRegression"
   ]
  },
  {
   "cell_type": "code",
   "execution_count": 42,
   "id": "59f066e0",
   "metadata": {},
   "outputs": [],
   "source": [
    "log = LogisticRegression()"
   ]
  },
  {
   "cell_type": "code",
   "execution_count": 44,
   "id": "206a9882",
   "metadata": {},
   "outputs": [
    {
     "name": "stderr",
     "output_type": "stream",
     "text": [
      "/Users/fathimab/anaconda3/lib/python3.10/site-packages/sklearn/linear_model/_logistic.py:458: ConvergenceWarning: lbfgs failed to converge (status=1):\n",
      "STOP: TOTAL NO. of ITERATIONS REACHED LIMIT.\n",
      "\n",
      "Increase the number of iterations (max_iter) or scale the data as shown in:\n",
      "    https://scikit-learn.org/stable/modules/preprocessing.html\n",
      "Please also refer to the documentation for alternative solver options:\n",
      "    https://scikit-learn.org/stable/modules/linear_model.html#logistic-regression\n",
      "  n_iter_i = _check_optimize_result(\n"
     ]
    },
    {
     "data": {
      "text/html": [
       "<style>#sk-container-id-1 {color: black;background-color: white;}#sk-container-id-1 pre{padding: 0;}#sk-container-id-1 div.sk-toggleable {background-color: white;}#sk-container-id-1 label.sk-toggleable__label {cursor: pointer;display: block;width: 100%;margin-bottom: 0;padding: 0.3em;box-sizing: border-box;text-align: center;}#sk-container-id-1 label.sk-toggleable__label-arrow:before {content: \"▸\";float: left;margin-right: 0.25em;color: #696969;}#sk-container-id-1 label.sk-toggleable__label-arrow:hover:before {color: black;}#sk-container-id-1 div.sk-estimator:hover label.sk-toggleable__label-arrow:before {color: black;}#sk-container-id-1 div.sk-toggleable__content {max-height: 0;max-width: 0;overflow: hidden;text-align: left;background-color: #f0f8ff;}#sk-container-id-1 div.sk-toggleable__content pre {margin: 0.2em;color: black;border-radius: 0.25em;background-color: #f0f8ff;}#sk-container-id-1 input.sk-toggleable__control:checked~div.sk-toggleable__content {max-height: 200px;max-width: 100%;overflow: auto;}#sk-container-id-1 input.sk-toggleable__control:checked~label.sk-toggleable__label-arrow:before {content: \"▾\";}#sk-container-id-1 div.sk-estimator input.sk-toggleable__control:checked~label.sk-toggleable__label {background-color: #d4ebff;}#sk-container-id-1 div.sk-label input.sk-toggleable__control:checked~label.sk-toggleable__label {background-color: #d4ebff;}#sk-container-id-1 input.sk-hidden--visually {border: 0;clip: rect(1px 1px 1px 1px);clip: rect(1px, 1px, 1px, 1px);height: 1px;margin: -1px;overflow: hidden;padding: 0;position: absolute;width: 1px;}#sk-container-id-1 div.sk-estimator {font-family: monospace;background-color: #f0f8ff;border: 1px dotted black;border-radius: 0.25em;box-sizing: border-box;margin-bottom: 0.5em;}#sk-container-id-1 div.sk-estimator:hover {background-color: #d4ebff;}#sk-container-id-1 div.sk-parallel-item::after {content: \"\";width: 100%;border-bottom: 1px solid gray;flex-grow: 1;}#sk-container-id-1 div.sk-label:hover label.sk-toggleable__label {background-color: #d4ebff;}#sk-container-id-1 div.sk-serial::before {content: \"\";position: absolute;border-left: 1px solid gray;box-sizing: border-box;top: 0;bottom: 0;left: 50%;z-index: 0;}#sk-container-id-1 div.sk-serial {display: flex;flex-direction: column;align-items: center;background-color: white;padding-right: 0.2em;padding-left: 0.2em;position: relative;}#sk-container-id-1 div.sk-item {position: relative;z-index: 1;}#sk-container-id-1 div.sk-parallel {display: flex;align-items: stretch;justify-content: center;background-color: white;position: relative;}#sk-container-id-1 div.sk-item::before, #sk-container-id-1 div.sk-parallel-item::before {content: \"\";position: absolute;border-left: 1px solid gray;box-sizing: border-box;top: 0;bottom: 0;left: 50%;z-index: -1;}#sk-container-id-1 div.sk-parallel-item {display: flex;flex-direction: column;z-index: 1;position: relative;background-color: white;}#sk-container-id-1 div.sk-parallel-item:first-child::after {align-self: flex-end;width: 50%;}#sk-container-id-1 div.sk-parallel-item:last-child::after {align-self: flex-start;width: 50%;}#sk-container-id-1 div.sk-parallel-item:only-child::after {width: 0;}#sk-container-id-1 div.sk-dashed-wrapped {border: 1px dashed gray;margin: 0 0.4em 0.5em 0.4em;box-sizing: border-box;padding-bottom: 0.4em;background-color: white;}#sk-container-id-1 div.sk-label label {font-family: monospace;font-weight: bold;display: inline-block;line-height: 1.2em;}#sk-container-id-1 div.sk-label-container {text-align: center;}#sk-container-id-1 div.sk-container {/* jupyter's `normalize.less` sets `[hidden] { display: none; }` but bootstrap.min.css set `[hidden] { display: none !important; }` so we also need the `!important` here to be able to override the default hidden behavior on the sphinx rendered scikit-learn.org. See: https://github.com/scikit-learn/scikit-learn/issues/21755 */display: inline-block !important;position: relative;}#sk-container-id-1 div.sk-text-repr-fallback {display: none;}</style><div id=\"sk-container-id-1\" class=\"sk-top-container\"><div class=\"sk-text-repr-fallback\"><pre>LogisticRegression()</pre><b>In a Jupyter environment, please rerun this cell to show the HTML representation or trust the notebook. <br />On GitHub, the HTML representation is unable to render, please try loading this page with nbviewer.org.</b></div><div class=\"sk-container\" hidden><div class=\"sk-item\"><div class=\"sk-estimator sk-toggleable\"><input class=\"sk-toggleable__control sk-hidden--visually\" id=\"sk-estimator-id-1\" type=\"checkbox\" checked><label for=\"sk-estimator-id-1\" class=\"sk-toggleable__label sk-toggleable__label-arrow\">LogisticRegression</label><div class=\"sk-toggleable__content\"><pre>LogisticRegression()</pre></div></div></div></div></div>"
      ],
      "text/plain": [
       "LogisticRegression()"
      ]
     },
     "execution_count": 44,
     "metadata": {},
     "output_type": "execute_result"
    }
   ],
   "source": [
    "log.fit(X_train,y_train)"
   ]
  },
  {
   "cell_type": "code",
   "execution_count": 45,
   "id": "b4596582",
   "metadata": {},
   "outputs": [
    {
     "data": {
      "text/plain": [
       "0.7375"
      ]
     },
     "execution_count": 45,
     "metadata": {},
     "output_type": "execute_result"
    }
   ],
   "source": [
    "y_pred = log.predict(X_test)\n",
    "accuracy_score(y_test,y_pred)"
   ]
  },
  {
   "cell_type": "code",
   "execution_count": null,
   "id": "a21fcd19",
   "metadata": {},
   "outputs": [],
   "source": []
  },
  {
   "cell_type": "code",
   "execution_count": null,
   "id": "7723fdc3",
   "metadata": {},
   "outputs": [],
   "source": []
  }
 ],
 "metadata": {
  "kernelspec": {
   "display_name": "Python 3 (ipykernel)",
   "language": "python",
   "name": "python3"
  },
  "language_info": {
   "codemirror_mode": {
    "name": "ipython",
    "version": 3
   },
   "file_extension": ".py",
   "mimetype": "text/x-python",
   "name": "python",
   "nbconvert_exporter": "python",
   "pygments_lexer": "ipython3",
   "version": "3.10.9"
  }
 },
 "nbformat": 4,
 "nbformat_minor": 5
}
